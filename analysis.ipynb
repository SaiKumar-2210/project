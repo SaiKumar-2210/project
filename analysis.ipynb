{
 "cells": [
  {
   "cell_type": "markdown",
   "id": "d06da3aa",
   "metadata": {},
   "source": [
    "## 10-K Data Analysis of Microsoft,Tesla,Apple"
   ]
  },
  {
   "cell_type": "code",
   "execution_count": 1,
   "id": "d0f5f778",
   "metadata": {},
   "outputs": [],
   "source": [
    "import pandas as pd"
   ]
  },
  {
   "cell_type": "code",
   "execution_count": 14,
   "id": "e581a392",
   "metadata": {},
   "outputs": [],
   "source": [
    "df = pd.read_excel(\"10Kdata.xlsx\")"
   ]
  },
  {
   "cell_type": "code",
   "execution_count": null,
   "id": "1fabfdaa",
   "metadata": {},
   "outputs": [],
   "source": [
    "def revenue_growth(df):\n",
    "    return df.groupby(['Company'])['Total revenue'].pct_change() * 100\n",
    "def net_income_growth(df):\n",
    "    return df.groupby(['Company'])['Net Income'].pct_change() * 100"
   ]
  },
  {
   "cell_type": "markdown",
   "id": "8ff379d2",
   "metadata": {},
   "source": [
    "## DataFrame"
   ]
  },
  {
   "cell_type": "code",
   "execution_count": 16,
   "id": "cfffebbb",
   "metadata": {},
   "outputs": [
    {
     "data": {
      "text/html": [
       "<div>\n",
       "<style scoped>\n",
       "    .dataframe tbody tr th:only-of-type {\n",
       "        vertical-align: middle;\n",
       "    }\n",
       "\n",
       "    .dataframe tbody tr th {\n",
       "        vertical-align: top;\n",
       "    }\n",
       "\n",
       "    .dataframe thead th {\n",
       "        text-align: right;\n",
       "    }\n",
       "</style>\n",
       "<table border=\"1\" class=\"dataframe\">\n",
       "  <thead>\n",
       "    <tr style=\"text-align: right;\">\n",
       "      <th></th>\n",
       "      <th>Company</th>\n",
       "      <th>Year</th>\n",
       "      <th>Total revenue</th>\n",
       "      <th>Net Income</th>\n",
       "      <th>Total Assests</th>\n",
       "      <th>Total Liabilites</th>\n",
       "      <th>Cash</th>\n",
       "      <th>Revenue Growth (%)</th>\n",
       "      <th>Net Income Growth (%)</th>\n",
       "    </tr>\n",
       "  </thead>\n",
       "  <tbody>\n",
       "    <tr>\n",
       "      <th>0</th>\n",
       "      <td>MicroSoft</td>\n",
       "      <td>2022</td>\n",
       "      <td>198270000000</td>\n",
       "      <td>72738000000</td>\n",
       "      <td>364840000000</td>\n",
       "      <td>198298000000</td>\n",
       "      <td>89035000000</td>\n",
       "      <td>NaN</td>\n",
       "      <td>NaN</td>\n",
       "    </tr>\n",
       "    <tr>\n",
       "      <th>1</th>\n",
       "      <td>MicroSoft</td>\n",
       "      <td>2023</td>\n",
       "      <td>211915000000</td>\n",
       "      <td>72361000000</td>\n",
       "      <td>411976000000</td>\n",
       "      <td>205753000000</td>\n",
       "      <td>87582000000</td>\n",
       "      <td>6.882030</td>\n",
       "      <td>-0.518299</td>\n",
       "    </tr>\n",
       "    <tr>\n",
       "      <th>2</th>\n",
       "      <td>MicroSoft</td>\n",
       "      <td>2024</td>\n",
       "      <td>245122000000</td>\n",
       "      <td>88136000000</td>\n",
       "      <td>512163000000</td>\n",
       "      <td>243686000000</td>\n",
       "      <td>118548000000</td>\n",
       "      <td>15.669962</td>\n",
       "      <td>21.800417</td>\n",
       "    </tr>\n",
       "    <tr>\n",
       "      <th>3</th>\n",
       "      <td>Tesla</td>\n",
       "      <td>2022</td>\n",
       "      <td>81462000000</td>\n",
       "      <td>12587000000</td>\n",
       "      <td>82338000000</td>\n",
       "      <td>36440000000</td>\n",
       "      <td>14724000000</td>\n",
       "      <td>NaN</td>\n",
       "      <td>NaN</td>\n",
       "    </tr>\n",
       "    <tr>\n",
       "      <th>4</th>\n",
       "      <td>Tesla</td>\n",
       "      <td>2023</td>\n",
       "      <td>96773000000</td>\n",
       "      <td>14974000000</td>\n",
       "      <td>106618000000</td>\n",
       "      <td>43009000000</td>\n",
       "      <td>13256000000</td>\n",
       "      <td>18.795267</td>\n",
       "      <td>18.964010</td>\n",
       "    </tr>\n",
       "    <tr>\n",
       "      <th>5</th>\n",
       "      <td>Tesla</td>\n",
       "      <td>2024</td>\n",
       "      <td>97690000000</td>\n",
       "      <td>7153000000</td>\n",
       "      <td>122070000000</td>\n",
       "      <td>48390000000</td>\n",
       "      <td>14923000000</td>\n",
       "      <td>0.947578</td>\n",
       "      <td>-52.230533</td>\n",
       "    </tr>\n",
       "    <tr>\n",
       "      <th>6</th>\n",
       "      <td>Apple</td>\n",
       "      <td>2022</td>\n",
       "      <td>394328000000</td>\n",
       "      <td>99803000000</td>\n",
       "      <td>352755000000</td>\n",
       "      <td>302083000000</td>\n",
       "      <td>122151000000</td>\n",
       "      <td>NaN</td>\n",
       "      <td>NaN</td>\n",
       "    </tr>\n",
       "    <tr>\n",
       "      <th>7</th>\n",
       "      <td>Apple</td>\n",
       "      <td>2023</td>\n",
       "      <td>383285000000</td>\n",
       "      <td>96995000000</td>\n",
       "      <td>352583000000</td>\n",
       "      <td>290437000000</td>\n",
       "      <td>110543000000</td>\n",
       "      <td>-2.800461</td>\n",
       "      <td>-2.813543</td>\n",
       "    </tr>\n",
       "    <tr>\n",
       "      <th>8</th>\n",
       "      <td>Apple</td>\n",
       "      <td>2024</td>\n",
       "      <td>391035000000</td>\n",
       "      <td>93736000000</td>\n",
       "      <td>364980000000</td>\n",
       "      <td>308030000000</td>\n",
       "      <td>118254000000</td>\n",
       "      <td>2.021994</td>\n",
       "      <td>-3.359967</td>\n",
       "    </tr>\n",
       "  </tbody>\n",
       "</table>\n",
       "</div>"
      ],
      "text/plain": [
       "     Company  Year  Total revenue   Net Income  Total Assests  \\\n",
       "0  MicroSoft  2022   198270000000  72738000000   364840000000   \n",
       "1  MicroSoft  2023   211915000000  72361000000   411976000000   \n",
       "2  MicroSoft  2024   245122000000  88136000000   512163000000   \n",
       "3      Tesla  2022    81462000000  12587000000    82338000000   \n",
       "4      Tesla  2023    96773000000  14974000000   106618000000   \n",
       "5      Tesla  2024    97690000000   7153000000   122070000000   \n",
       "6      Apple  2022   394328000000  99803000000   352755000000   \n",
       "7      Apple  2023   383285000000  96995000000   352583000000   \n",
       "8      Apple  2024   391035000000  93736000000   364980000000   \n",
       "\n",
       "   Total Liabilites         Cash   Revenue Growth (%)  Net Income Growth (%)  \n",
       "0      198298000000   89035000000                 NaN                    NaN  \n",
       "1      205753000000   87582000000            6.882030              -0.518299  \n",
       "2      243686000000  118548000000           15.669962              21.800417  \n",
       "3       36440000000   14724000000                 NaN                    NaN  \n",
       "4       43009000000   13256000000           18.795267              18.964010  \n",
       "5       48390000000   14923000000            0.947578             -52.230533  \n",
       "6      302083000000  122151000000                 NaN                    NaN  \n",
       "7      290437000000  110543000000           -2.800461              -2.813543  \n",
       "8      308030000000  118254000000            2.021994              -3.359967  "
      ]
     },
     "execution_count": 16,
     "metadata": {},
     "output_type": "execute_result"
    }
   ],
   "source": [
    "df.head(10)"
   ]
  },
  {
   "cell_type": "markdown",
   "id": "5a8cc982",
   "metadata": {},
   "source": [
    "#### Average revenue and net income by company"
   ]
  },
  {
   "cell_type": "code",
   "execution_count": null,
   "id": "c99d3102",
   "metadata": {},
   "outputs": [
    {
     "data": {
      "text/html": [
       "<div>\n",
       "<style scoped>\n",
       "    .dataframe tbody tr th:only-of-type {\n",
       "        vertical-align: middle;\n",
       "    }\n",
       "\n",
       "    .dataframe tbody tr th {\n",
       "        vertical-align: top;\n",
       "    }\n",
       "\n",
       "    .dataframe thead th {\n",
       "        text-align: right;\n",
       "    }\n",
       "</style>\n",
       "<table border=\"1\" class=\"dataframe\">\n",
       "  <thead>\n",
       "    <tr style=\"text-align: right;\">\n",
       "      <th></th>\n",
       "      <th>Total revenue</th>\n",
       "      <th>Net Income</th>\n",
       "    </tr>\n",
       "    <tr>\n",
       "      <th>Company</th>\n",
       "      <th></th>\n",
       "      <th></th>\n",
       "    </tr>\n",
       "  </thead>\n",
       "  <tbody>\n",
       "    <tr>\n",
       "      <th>Apple</th>\n",
       "      <td>3.895493e+11</td>\n",
       "      <td>9.684467e+10</td>\n",
       "    </tr>\n",
       "    <tr>\n",
       "      <th>MicroSoft</th>\n",
       "      <td>2.184357e+11</td>\n",
       "      <td>7.774500e+10</td>\n",
       "    </tr>\n",
       "    <tr>\n",
       "      <th>Tesla</th>\n",
       "      <td>9.197500e+10</td>\n",
       "      <td>1.157133e+10</td>\n",
       "    </tr>\n",
       "  </tbody>\n",
       "</table>\n",
       "</div>"
      ],
      "text/plain": [
       "           Total revenue    Net Income\n",
       "Company                               \n",
       "Apple       3.895493e+11  9.684467e+10\n",
       "MicroSoft   2.184357e+11  7.774500e+10\n",
       "Tesla       9.197500e+10  1.157133e+10"
      ]
     },
     "execution_count": 20,
     "metadata": {},
     "output_type": "execute_result"
    }
   ],
   "source": [
    "def avg_metrics():\n",
    "    return df.groupby('Company')[['Total revenue', 'Net Income']].mean()"
   ]
  },
  {
   "cell_type": "markdown",
   "id": "769cd64a",
   "metadata": {},
   "source": [
    "#### Total revenue and net income by year\n"
   ]
  },
  {
   "cell_type": "code",
   "execution_count": null,
   "id": "83491488",
   "metadata": {},
   "outputs": [
    {
     "data": {
      "text/html": [
       "<div>\n",
       "<style scoped>\n",
       "    .dataframe tbody tr th:only-of-type {\n",
       "        vertical-align: middle;\n",
       "    }\n",
       "\n",
       "    .dataframe tbody tr th {\n",
       "        vertical-align: top;\n",
       "    }\n",
       "\n",
       "    .dataframe thead th {\n",
       "        text-align: right;\n",
       "    }\n",
       "</style>\n",
       "<table border=\"1\" class=\"dataframe\">\n",
       "  <thead>\n",
       "    <tr style=\"text-align: right;\">\n",
       "      <th></th>\n",
       "      <th>Total revenue</th>\n",
       "      <th>Net Income</th>\n",
       "    </tr>\n",
       "    <tr>\n",
       "      <th>Year</th>\n",
       "      <th></th>\n",
       "      <th></th>\n",
       "    </tr>\n",
       "  </thead>\n",
       "  <tbody>\n",
       "    <tr>\n",
       "      <th>2022</th>\n",
       "      <td>674060000000</td>\n",
       "      <td>185128000000</td>\n",
       "    </tr>\n",
       "    <tr>\n",
       "      <th>2023</th>\n",
       "      <td>691973000000</td>\n",
       "      <td>184330000000</td>\n",
       "    </tr>\n",
       "    <tr>\n",
       "      <th>2024</th>\n",
       "      <td>733847000000</td>\n",
       "      <td>189025000000</td>\n",
       "    </tr>\n",
       "  </tbody>\n",
       "</table>\n",
       "</div>"
      ],
      "text/plain": [
       "      Total revenue    Net Income\n",
       "Year                             \n",
       "2022   674060000000  185128000000\n",
       "2023   691973000000  184330000000\n",
       "2024   733847000000  189025000000"
      ]
     },
     "execution_count": 21,
     "metadata": {},
     "output_type": "execute_result"
    }
   ],
   "source": [
    "def yearly_totals():\n",
    "    return df.groupby('Year')[['Total revenue', 'Net Income']].sum()"
   ]
  },
  {
   "cell_type": "markdown",
   "id": "2005e118",
   "metadata": {
    "vscode": {
     "languageId": "perl"
    }
   },
   "source": [
    "## Trends and Financial Changes in 10-K Data\n",
    "\n",
    "This analysis explores the financial performance of Microsoft, Tesla, and Apple using their 10-K data. By calculating year-over-year growth rates for total revenue and net income, we gain insights into each company's financial trajectory.\n",
    "\n",
    "**Revenue Trends:**  \n",
    "All three companies have shown consistent revenue growth over the years, with some fluctuations. Microsoft and Apple generally display steady increases, reflecting their mature market positions and diversified product lines. Tesla, being a relatively newer entrant, exhibits higher revenue growth rates, especially in recent years, indicating rapid expansion and scaling of operations.\n",
    "\n",
    "**Net Income Trends:**  \n",
    "Net income growth varies more significantly. Apple and Microsoft maintain strong profitability, with net income rising in line with revenue. Tesla, on the other hand, shows more volatility in net income, with periods of losses followed by sharp increases as the company moves toward sustained profitability.\n",
    "\n",
    "**Aggregate Analysis:**  \n",
    "- The average revenue and net income by company highlight Apple's and Microsoft's financial strength compared to Tesla.\n",
    "- Yearly totals show the overall growth of the sector, with each company contributing to increasing industry revenues and profits.\n",
    "- Maximum and minimum revenue values for each company reveal the scale of their operations and the pace of their growth.\n",
    "- Revenue growth statistics indicate that while Tesla's growth is more erratic, it also has the highest peaks, reflecting its rapid development phase.\n",
    "\n",
    "**Conclusion:**  \n",
    "The data demonstrates that while Apple and Microsoft are stable, high-performing companies, Tesla is in a high-growth phase with increasing profitability. These trends reflect broader industry dynamics, where established players maintain steady growth and new entrants experience rapid but volatile"
   ]
  }
 ],
 "metadata": {
  "kernelspec": {
   "display_name": "Python 3",
   "language": "python",
   "name": "python3"
  },
  "language_info": {
   "codemirror_mode": {
    "name": "ipython",
    "version": 3
   },
   "file_extension": ".py",
   "mimetype": "text/x-python",
   "name": "python",
   "nbconvert_exporter": "python",
   "pygments_lexer": "ipython3",
   "version": "3.12.2"
  }
 },
 "nbformat": 4,
 "nbformat_minor": 5
}
