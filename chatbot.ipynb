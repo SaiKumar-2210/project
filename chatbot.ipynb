{
 "cells": [
  {
   "cell_type": "code",
   "execution_count": null,
   "id": "872f322f",
   "metadata": {},
   "outputs": [],
   "source": [
    "## user input \n",
    "######Comapny name\n",
    "###########Microsoft\n",
    "###########Tesla\n",
    "###########Apple\n",
    "###########Overall\n",
    "## user input end\n",
    "#ask to enter the specific details of the company\n"
   ]
  }
 ],
 "metadata": {
  "language_info": {
   "name": "python"
  }
 },
 "nbformat": 4,
 "nbformat_minor": 5
}
